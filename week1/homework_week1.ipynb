{
  "nbformat": 4,
  "nbformat_minor": 0,
  "metadata": {
    "colab": {
      "provenance": []
    },
    "kernelspec": {
      "name": "python3",
      "display_name": "Python 3"
    },
    "language_info": {
      "name": "python"
    }
  },
  "cells": [
    {
      "cell_type": "code",
      "execution_count": 1,
      "metadata": {
        "colab": {
          "base_uri": "https://localhost:8080/"
        },
        "id": "bWLLTYwHJOoz",
        "outputId": "1ff58815-44f4-4936-d564-7d257ef502a1"
      },
      "outputs": [
        {
          "output_type": "stream",
          "name": "stdout",
          "text": [
            "NumPy version: 1.23.5\n",
            "Pandas version: 1.5.3\n",
            "Matplotlib version: 3.7.1\n",
            "Seaborn version: 0.12.2\n"
          ]
        }
      ],
      "source": [
        "import numpy as np\n",
        "import pandas as pd\n",
        "import matplotlib\n",
        "import seaborn as sns\n",
        "\n",
        "print(\"NumPy version:\", np.__version__)\n",
        "print(\"Pandas version:\", pd.__version__)\n",
        "print(\"Matplotlib version:\", matplotlib.__version__)\n",
        "print(\"Seaborn version:\", sns.__version__)\n"
      ]
    },
    {
      "cell_type": "code",
      "source": [
        "!wget https://raw.githubusercontent.com/alexeygrigorev/datasets/master/housing.csv\n",
        "housing_data = pd.read_csv(\"housing.csv\")\n"
      ],
      "metadata": {
        "colab": {
          "base_uri": "https://localhost:8080/"
        },
        "id": "UsaMeCB_X8xz",
        "outputId": "43312a13-d181-4cbd-d787-ba5a1152f80c"
      },
      "execution_count": 2,
      "outputs": [
        {
          "output_type": "stream",
          "name": "stdout",
          "text": [
            "--2023-09-19 02:58:36--  https://raw.githubusercontent.com/alexeygrigorev/datasets/master/housing.csv\n",
            "Resolving raw.githubusercontent.com (raw.githubusercontent.com)... 185.199.110.133, 185.199.109.133, 185.199.111.133, ...\n",
            "Connecting to raw.githubusercontent.com (raw.githubusercontent.com)|185.199.110.133|:443... connected.\n",
            "HTTP request sent, awaiting response... 200 OK\n",
            "Length: 1423529 (1.4M) [text/plain]\n",
            "Saving to: ‘housing.csv’\n",
            "\n",
            "housing.csv         100%[===================>]   1.36M  6.91MB/s    in 0.2s    \n",
            "\n",
            "2023-09-19 02:58:37 (6.91 MB/s) - ‘housing.csv’ saved [1423529/1423529]\n",
            "\n"
          ]
        }
      ]
    },
    {
      "cell_type": "code",
      "source": [
        "# How many columns are in the dataset?\n",
        "num_columns = len(housing_data.columns)\n",
        "num_columns\n"
      ],
      "metadata": {
        "colab": {
          "base_uri": "https://localhost:8080/"
        },
        "id": "1X-rd-PwYDXN",
        "outputId": "fa9f153d-bcee-40d4-bcca-e2f877cb3d90"
      },
      "execution_count": 4,
      "outputs": [
        {
          "output_type": "execute_result",
          "data": {
            "text/plain": [
              "10"
            ]
          },
          "metadata": {},
          "execution_count": 4
        }
      ]
    },
    {
      "cell_type": "code",
      "source": [
        "# Which columns in the dataset have missing values?\n",
        "columns_with_missing_values = housing_data.columns[housing_data.isnull().any()].tolist()\n",
        "columns_with_missing_values  # This will give you the list of columns with missing values\n"
      ],
      "metadata": {
        "colab": {
          "base_uri": "https://localhost:8080/"
        },
        "id": "3g5KljjHYvjp",
        "outputId": "689cc6b3-790a-4a7c-9349-8e987179b258"
      },
      "execution_count": 6,
      "outputs": [
        {
          "output_type": "execute_result",
          "data": {
            "text/plain": [
              "['total_bedrooms']"
            ]
          },
          "metadata": {},
          "execution_count": 6
        }
      ]
    },
    {
      "cell_type": "code",
      "source": [
        "# How many unique values does the ocean_proximity column have?\n",
        "unique_values_ocean_proximity = housing_data['ocean_proximity'].nunique()\n",
        "unique_values_ocean_proximity\n"
      ],
      "metadata": {
        "colab": {
          "base_uri": "https://localhost:8080/"
        },
        "id": "eeQULHTEY5a7",
        "outputId": "bd23e036-fa82-4650-c7ca-2ec35a17cb2d"
      },
      "execution_count": 8,
      "outputs": [
        {
          "output_type": "execute_result",
          "data": {
            "text/plain": [
              "5"
            ]
          },
          "metadata": {},
          "execution_count": 8
        }
      ]
    },
    {
      "cell_type": "code",
      "source": [
        "# What's the average value of the median_house_value for the houses located near the bay?\n",
        "average_median_house_value_bay = housing_data[housing_data['ocean_proximity'] == 'NEAR BAY']['median_house_value'].mean()\n",
        "average_median_house_value_bay  # This will give you the average median house value for houses near the bay\n"
      ],
      "metadata": {
        "colab": {
          "base_uri": "https://localhost:8080/"
        },
        "id": "sqXusbkmZAt5",
        "outputId": "7113fbdd-3304-4695-864e-e05a0fc2875f"
      },
      "execution_count": 9,
      "outputs": [
        {
          "output_type": "execute_result",
          "data": {
            "text/plain": [
              "259212.31179039303"
            ]
          },
          "metadata": {},
          "execution_count": 9
        }
      ]
    },
    {
      "cell_type": "code",
      "source": [
        "# Calculate the average of the total_bedrooms column and handle missing values\n",
        "\n",
        "# Calculate the initial average of total_bedrooms\n",
        "initial_average_total_bedrooms = housing_data['total_bedrooms'].mean()\n",
        "\n",
        "# Fill missing values in total_bedrooms with the mean value\n",
        "housing_data['total_bedrooms'].fillna(initial_average_total_bedrooms, inplace=True)\n",
        "\n",
        "# Calculate the average of total_bedrooms again\n",
        "new_average_total_bedrooms = housing_data['total_bedrooms'].mean()\n",
        "average_changed = abs(initial_average_total_bedrooms - new_average_total_bedrooms) > 0.001\n",
        "\n",
        "new_average_total_bedrooms, average_changed  # This indicates the new average and whether if it has changed\n"
      ],
      "metadata": {
        "colab": {
          "base_uri": "https://localhost:8080/"
        },
        "id": "wBACjcREaBoc",
        "outputId": "232f343d-2fbd-4aca-e9d2-4bdec014226a"
      },
      "execution_count": 11,
      "outputs": [
        {
          "output_type": "execute_result",
          "data": {
            "text/plain": [
              "(537.8705525375617, False)"
            ]
          },
          "metadata": {},
          "execution_count": 11
        }
      ]
    },
    {
      "cell_type": "code",
      "source": [
        "# Implement linear regression and find the value of the last element of w\n",
        "from numpy.linalg import inv\n",
        "\n",
        "# Select options located on islands\n",
        "islands_data = housing_data[housing_data['ocean_proximity'] == 'ISLAND']\n",
        "\n",
        "# Select specified columns\n",
        "selected_columns = ['housing_median_age', 'total_rooms', 'total_bedrooms']\n",
        "selected_data = islands_data[selected_columns]\n",
        "\n",
        "# Get the underlying NumPy array (X)\n",
        "X = selected_data.to_numpy()\n",
        "\n",
        "# Compute matrix-matrix multiplication between the transpose of X and X (XTX)\n",
        "XTX = X.T @ X\n",
        "\n",
        "# Compute the inverse of XTX\n",
        "inv_XTX = inv(XTX)\n",
        "\n",
        "# Create an array y with values [950, 1300, 800, 1000, 1300]\n",
        "y = np.array([950, 1300, 800, 1000, 1300])\n",
        "\n",
        "# Multiply the inverse of XTX with the transpose of X, and then multiply by y to get w\n",
        "w = inv_XTX @ X.T @ y\n",
        "\n",
        "# Get the last element of w\n",
        "last_element_w = w[-1]\n",
        "\n",
        "last_element_w  # This gives value of the last element of w\n"
      ],
      "metadata": {
        "colab": {
          "base_uri": "https://localhost:8080/"
        },
        "id": "SzF_h7NmaKvg",
        "outputId": "96ab7de1-b768-46f2-df98-ec4774e50d05"
      },
      "execution_count": 17,
      "outputs": [
        {
          "output_type": "execute_result",
          "data": {
            "text/plain": [
              "5.699229455065586"
            ]
          },
          "metadata": {},
          "execution_count": 17
        }
      ]
    }
  ]
}